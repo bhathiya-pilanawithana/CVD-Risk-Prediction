{
  "cells": [
    {
      "cell_type": "code",
      "execution_count": null,
      "metadata": {
        "colab": {
          "base_uri": "https://localhost:8080/"
        },
        "id": "yPmUqjlBGfKi",
        "outputId": "f889de35-b1bd-48c4-f79d-ed0197bb55d8"
      },
      "outputs": [],
      "source": [
        "import numpy as np\n",
        "import pandas as pd"
      ]
    },
    {
      "cell_type": "code",
      "execution_count": null,
      "metadata": {
        "id": "PORCRWgtHIE3"
      },
      "outputs": [],
      "source": [
        "cvd_data = pd.read_csv(\"CVD_cleaned.csv\")"
      ]
    },
    {
      "cell_type": "code",
      "execution_count": null,
      "metadata": {
        "colab": {
          "base_uri": "https://localhost:8080/"
        },
        "id": "8XB66wVCLy1L",
        "outputId": "ff3f0878-899d-48ac-c8fd-58db79b5e0b5"
      },
      "outputs": [],
      "source": [
        "\n",
        "print(\"Unique Values of General_Health Column: \", cvd_data['General_Health'].unique())\n",
        "print(\"Unique Values of Checkup Column: \", cvd_data['Checkup'].unique())\n",
        "print(\"Unique Values of Age_Category Column: \", cvd_data['Age_Category'].unique())\n",
        "print(\"Unique Values of Exercise Column: \", cvd_data['Exercise'].unique())\n",
        "print(\"Unique Values of Heart_Disease Column: \", cvd_data['Heart_Disease'].unique())\n",
        "print(\"Unique Values of Skin_Cancer Column: \", cvd_data['Skin_Cancer'].unique())\n",
        "print(\"Unique Values of Other_Cancer Column: \", cvd_data['Other_Cancer'].unique())\n",
        "print(\"Unique Values of Depression Column: \", cvd_data['Depression'].unique())\n",
        "print(\"Unique Values of Diabetes Column: \", cvd_data['Diabetes'].unique())\n",
        "print(\"Unique Values of Arthritis Column: \", cvd_data['Arthritis'].unique())\n",
        "print(\"Unique Values of Smoking_History Column: \", cvd_data['Smoking_History'].unique())"
      ]
    },
    {
      "cell_type": "code",
      "execution_count": null,
      "metadata": {
        "id": "sgV3edkrbAL0"
      },
      "outputs": [],
      "source": [
        "ordinal_cols = [\"General_Health\",\n",
        "                \"Checkup\",\n",
        "                \"Age_Category\",\n",
        "                \"Diabetes\",\n",
        "                \"Exercise\",\n",
        "                \"Heart_Disease\",\n",
        "                \"Skin_Cancer\",\n",
        "                \"Other_Cancer\",\n",
        "                \"Depression\",\n",
        "                \"Arthritis\",\n",
        "                \"Smoking_History\"]\n",
        "\n",
        "ordinal_categories = [\n",
        "     ['Poor', 'Fair', 'Good', 'Very Good', 'Excellent'],\n",
        "     ['Never', '5 or more years ago', 'Within the past 5 years', 'Within the past 2 years', 'Within the past year'],\n",
        "     ['18-24','25-29','30-34','35-39','40-44','45-49','50-54',\n",
        " '55-59','60-64','65-69','70-74','75-79','80+'],\n",
        "     [\"No\",\"No, pre-diabetes or borderline diabetes\",\"Yes, but female told only during pregnancy\",\"Yes\"],\n",
        "     [\"No\",\"Yes\"],\n",
        "     [\"No\",\"Yes\"],\n",
        "     [\"No\",\"Yes\"],\n",
        "     [\"No\",\"Yes\"],\n",
        "     [\"No\",\"Yes\"],\n",
        "     [\"No\",\"Yes\"],\n",
        "     [\"No\",\"Yes\"]\n",
        "]\n",
        "\n",
        "onehot_cols = [\"Sex\"]"
      ]
    },
    {
      "cell_type": "code",
      "execution_count": null,
      "metadata": {
        "id": "8cgN_WkH6G6J"
      },
      "outputs": [],
      "source": [
        "from sklearn.preprocessing import OrdinalEncoder\n",
        "from sklearn.preprocessing import OneHotEncoder\n",
        "from sklearn.compose import ColumnTransformer\n",
        "from sklearn.pipeline import make_pipeline\n",
        "\n",
        "or_enc = OrdinalEncoder(categories=ordinal_categories)\n",
        "onehot_enc = OneHotEncoder(sparse_output=False, handle_unknown=\"ignore\")\n",
        "\n",
        "transformer_pipeline = make_pipeline(\n",
        "    ColumnTransformer(\n",
        "        transformers=[\n",
        "            (\"ordinal\", or_enc, ordinal_cols),\n",
        "            (\"one_hot\", onehot_enc, onehot_cols)\n",
        "        ],\n",
        "        remainder=\"passthrough\",\n",
        "        verbose_feature_names_out=False,\n",
        "    )\n",
        ").set_output(transform=\"pandas\")\n",
        "\n",
        "transformed_cvd_train = transformer_pipeline.fit_transform(cvd_data)"
      ]
    },
    {
      "cell_type": "code",
      "execution_count": null,
      "metadata": {
        "id": "hZIT9SGInk96"
      },
      "outputs": [],
      "source": [
        "cvd_Y = transformed_cvd_train[\"Heart_Disease\"]\n",
        "cvd_X = transformed_cvd_train.drop(\"Heart_Disease\",axis=1)"
      ]
    },
    {
      "cell_type": "code",
      "execution_count": null,
      "metadata": {
        "id": "W1K1TtSSMyLJ"
      },
      "outputs": [],
      "source": [
        "from sklearn.model_selection import train_test_split\n",
        "cvd_train_vali_X,cvd_holdout_X, cvd_train_vali_Y,cvd_holdout_Y = train_test_split(cvd_X,cvd_Y, test_size=0.3, random_state=0)"
      ]
    },
    {
      "cell_type": "code",
      "execution_count": null,
      "metadata": {
        "colab": {
          "base_uri": "https://localhost:8080/"
        },
        "id": "Dox0Nqm-nIFw",
        "outputId": "e87c77c0-99e5-42a8-bc26-c6121dc733df"
      },
      "outputs": [],
      "source": [
        "from sklearn.linear_model import LogisticRegression\n",
        "from sklearn.model_selection import GridSearchCV\n",
        "from sklearn.preprocessing import StandardScaler\n",
        "from sklearn.pipeline import Pipeline\n",
        "\n",
        "scaler = StandardScaler()\n",
        "scale_cols = list(cvd_train_vali_X.columns)\n",
        "cols_trfrm = ColumnTransformer(transformers=[(\"scaler\", scaler, scale_cols)],\n",
        "                               remainder=\"passthrough\",\n",
        "                               verbose_feature_names_out=False)\n",
        "model_lr=LogisticRegression()\n",
        "model_lr_pipeline = Pipeline(steps=[(\"cols_transform\", cols_trfrm), (\"logistic\", model_lr)])\n",
        "\n",
        "param_grid_lr = {'logistic__C':np.arange(0.1,2,0.1)}\n",
        "clf_lr = GridSearchCV(model_lr_pipeline, param_grid_lr, return_train_score=True, scoring=\"accuracy\", verbose=3)\n",
        "clf_lr.fit(cvd_train_vali_X, cvd_train_vali_Y)\n",
        "\n",
        "train_scores_lr = clf_lr.cv_results_['mean_train_score']\n",
        "validation_scores_lr = clf_lr.cv_results_['mean_test_score']\n",
        "\n",
        "best_validation_score_lr = validation_scores_lr.min()\n",
        "best_train_scores_lr = train_scores_lr[validation_scores_lr.argmin()]\n",
        "best_params_lr = clf_lr.best_params_"
      ]
    },
    {
      "cell_type": "code",
      "execution_count": null,
      "metadata": {
        "colab": {
          "base_uri": "https://localhost:8080/"
        },
        "id": "98JqlLyAhZLx",
        "outputId": "7f16a70b-a186-4d03-9e25-429fb147e464"
      },
      "outputs": [],
      "source": [
        "from sklearn.ensemble import RandomForestClassifier\n",
        "\n",
        "model_rf=RandomForestClassifier(random_state=0)\n",
        "param_grid_rf = {'n_estimators':np.array([5,10,20]),\n",
        "                 'max_features':np.arange(1,11,2),\n",
        "                 'max_depth':np.arange(1,11,3)}\n",
        "clf_rf = GridSearchCV(model_rf, param_grid_rf, return_train_score=True, scoring=\"accuracy\", verbose=3)\n",
        "clf_rf.fit(cvd_train_vali_X, cvd_train_vali_Y)\n",
        "\n",
        "train_scores_rf = clf_rf.cv_results_['mean_train_score']\n",
        "validation_scores_rf = clf_rf.cv_results_['mean_test_score']\n",
        "\n",
        "best_validation_score_rf = validation_scores_rf.min()\n",
        "best_train_scores_rf = train_scores_rf[validation_scores_rf.argmin()]\n",
        "best_params_rf = clf_rf.best_params_\n"
      ]
    },
    {
      "cell_type": "code",
      "execution_count": null,
      "metadata": {
        "colab": {
          "base_uri": "https://localhost:8080/"
        },
        "id": "CDJSFfU-uDyE",
        "outputId": "d8f9ca3d-76ae-4acd-82bc-774871878c60"
      },
      "outputs": [],
      "source": [
        "from sklearn.ensemble import ExtraTreesClassifier\n",
        "\n",
        "model_erf=ExtraTreesClassifier(random_state=0)\n",
        "param_grid_erf = {'n_estimators':np.array([5,10,20]),\n",
        "                 'max_features':np.arange(1,11,2),\n",
        "                 'max_depth':np.arange(1,11,3)}\n",
        "clf_erf = GridSearchCV(model_erf, param_grid_erf, return_train_score=True, scoring=\"accuracy\", verbose=3)\n",
        "clf_erf.fit(cvd_train_vali_X, cvd_train_vali_Y)\n",
        "\n",
        "train_scores_erf = clf_erf.cv_results_['mean_train_score']\n",
        "validation_scores_erf = clf_erf.cv_results_['mean_test_score']\n",
        "\n",
        "best_validation_score_erf = validation_scores_erf.min()\n",
        "best_train_scorees_erf = train_scores_erf[validation_scores_erf.argmin()]\n",
        "best_params_erf = clf_erf.best_params_"
      ]
    },
    {
      "cell_type": "code",
      "execution_count": null,
      "metadata": {
        "colab": {
          "base_uri": "https://localhost:8080/"
        },
        "id": "j8pwnsY0UBeJ",
        "outputId": "8dd500c6-fe52-4bd6-804e-e9aeb56a5029"
      },
      "outputs": [],
      "source": [
        "from sklearn.ensemble import AdaBoostClassifier\n",
        "\n",
        "model_ab=AdaBoostClassifier(random_state=0)\n",
        "param_grid_ab = {'n_estimators':np.array([10,30,50,80,100]),\n",
        "                 'learning_rate':np.arange(0.1,2,0.2)}\n",
        "clf_ab = GridSearchCV(model_ab, param_grid_ab, return_train_score=True, scoring=\"accuracy\", verbose=3)\n",
        "clf_ab.fit(cvd_train_vali_X, cvd_train_vali_Y)\n",
        "\n",
        "train_scores_ab = clf_ab.cv_results_['mean_train_score']\n",
        "validation_scores_ab = clf_ab.cv_results_['mean_test_score']\n",
        "\n",
        "best_validation_score_ab = validation_scores_ab.min()\n",
        "best_train_scorees_ab = train_scores_ab[validation_scores_ab.argmin()]\n",
        "best_params_ab = clf_ab.best_params_"
      ]
    },
    {
      "cell_type": "code",
      "execution_count": null,
      "metadata": {
        "colab": {
          "base_uri": "https://localhost:8080/"
        },
        "id": "4CJ1Dyv_-MD_",
        "outputId": "35d05086-ffa7-4d8a-e1ab-7967cead19c2"
      },
      "outputs": [],
      "source": [
        "import xgboost as xgb\n",
        "\n",
        "model_xg=xgb.XGBClassifier()\n",
        "param_grid_xg = {'n_estimators':np.array([5,10,20]),\n",
        "                 'learning_rate':np.arange(0.1,2,0.2),\n",
        "                 'max_depth':np.arange(1,11,3)}\n",
        "clf_xg = GridSearchCV(model_xg, param_grid_xg, return_train_score=True, scoring=\"accuracy\", verbose=3)\n",
        "clf_xg.fit(cvd_train_vali_X, cvd_train_vali_Y)\n",
        "\n",
        "train_scores_xg = clf_xg.cv_results_['mean_train_score']\n",
        "validation_scores_xg = clf_xg.cv_results_['mean_test_score']\n",
        "\n",
        "best_validation_score_xg = validation_scores_xg.min()\n",
        "best_train_scorees_xg = train_scores_xg[validation_scores_xg.argmin()]\n",
        "best_params_xg = clf_xg.best_params_"
      ]
    }
  ],
  "metadata": {
    "colab": {
      "provenance": []
    },
    "kernelspec": {
      "display_name": "Python 3",
      "name": "python3"
    },
    "language_info": {
      "name": "python"
    }
  },
  "nbformat": 4,
  "nbformat_minor": 0
}
